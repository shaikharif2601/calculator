{
 "cells": [
  {
   "cell_type": "markdown",
   "metadata": {},
   "source": [
    "### Python Porgrame to calculate a number in form of addition, substraction, multiplication, division\n"
   ]
  },
  {
   "cell_type": "code",
   "execution_count": null,
   "metadata": {},
   "outputs": [],
   "source": [
    "# function in calculator\n",
    "\n",
    "def Addition(x , y):                   #add function\n",
    "    \"\"\"\n",
    "    Addition of two numbers\n",
    "    \"\"\"\n",
    "    return x + y\n",
    "\n",
    "\n",
    "def Substraction(x , y):              #substraction function\n",
    "    \"\"\"\n",
    "    Substraction of two numbers\n",
    "    \"\"\"\n",
    "    return x - y\n",
    " \n",
    "    \n",
    "def Multiplication(x , y):            #multiplication function\n",
    "    \"\"\"\n",
    "    Multiplication of two numbers\n",
    "    \"\"\"\n",
    "    return x * y\n",
    "\n",
    "def Division(x , y):                  #division function\n",
    "    \"\"\"\n",
    "    Division of two numbers\n",
    "    \"\"\"\n",
    "    return x / y\n",
    "\n",
    "print(\"Welcome to my program\\n \")\n",
    "\n",
    "print(\"Select any option\\n\")\n",
    "\n",
    "print(\"1.Addtion\")\n",
    "\n",
    "print(\"2.Substraction\")\n",
    "\n",
    "print(\"3.Multiplication\")\n",
    "\n",
    "print(\"4.Division\")\n",
    "\n",
    "choice = input(\"enter 1/2/3/4 : \")         #chose any option from the above \n",
    "\n",
    "if choice in ('1','2','3','4'):\n",
    "    num1 = float(input(\"Enter first number\\n \"))     \n",
    "    num2 = float(input(\"Enter second number\\n\"))\n",
    "    \n",
    "    if choice == '1':                      #Addition\n",
    "        print(\"Addition of {0} and  {1} is {2} \".format(num1,num2,Addition(num1,num2)))\n",
    "        \n",
    "    elif choice == '2':                    #Substraction\n",
    "        print(\"Substraction of {0} and {1} is {2} \".format(num1,num2,Substraction(num1,num2)))\n",
    "        \n",
    "    elif choice == '3':                    #Multiplication\n",
    "        print(\"Multiplication of {0} and {1} is {2} \".format(num1,num2,Multiplication(num1,num2)))\n",
    "         \n",
    "    elif choice == '4':                    #Division\n",
    "        print(\"Division of {0} and {1} is {2} \".format(num1,num2,Division(num1,num2)))\n",
    "               \n",
    "else:                                    \n",
    "    print(\"Invalid Option\")                \n",
    "\n",
    "    \n",
    "# Made by Arif\n",
    "# gitusername :- shaikharif2601"
   ]
  },
  {
   "cell_type": "code",
   "execution_count": null,
   "metadata": {},
   "outputs": [],
   "source": []
  },
  {
   "cell_type": "code",
   "execution_count": null,
   "metadata": {},
   "outputs": [],
   "source": []
  }
 ],
 "metadata": {
  "kernelspec": {
   "display_name": "Python 3",
   "language": "python",
   "name": "python3"
  },
  "language_info": {
   "codemirror_mode": {
    "name": "ipython",
    "version": 3
   },
   "file_extension": ".py",
   "mimetype": "text/x-python",
   "name": "python",
   "nbconvert_exporter": "python",
   "pygments_lexer": "ipython3",
   "version": "3.8.5"
  }
 },
 "nbformat": 4,
 "nbformat_minor": 4
}
